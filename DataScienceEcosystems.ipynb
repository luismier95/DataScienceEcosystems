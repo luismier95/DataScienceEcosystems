{
 "cells": [
  {
   "cell_type": "markdown",
   "id": "b492ed03-973b-49a3-9598-86242253c335",
   "metadata": {},
   "source": [
    "# Data science tools and ecosystems"
   ]
  },
  {
   "cell_type": "markdown",
   "id": "2672eb86-0b51-48b7-bc5f-2a632163737d",
   "metadata": {},
   "source": [
    "In this notebook, Data science tools and ecosystems are summarized"
   ]
  },
  {
   "cell_type": "markdown",
   "id": "9aa988ea-0e07-4591-bb23-0ec94c757911",
   "metadata": {},
   "source": [
    "**Objectives:**\n",
    "\n",
    "- List some popular data science languages\n",
    "- List some popular data science libraries\n",
    "- Create some arithmetic examples"
   ]
  },
  {
   "cell_type": "markdown",
   "id": "a2daa327-a936-4ace-9f98-4af87db0e416",
   "metadata": {},
   "source": [
    "## Author:\n",
    "Luis Mier Bedia\n"
   ]
  },
  {
   "cell_type": "markdown",
   "id": "c9324cac-a958-455e-9186-8c64d1245623",
   "metadata": {},
   "source": [
    "Some of the popular languages Data Scientists use are.\n",
    "\n",
    "1. Python\n",
    "2. R\n",
    "3. Java\n",
    "4. Scala"
   ]
  },
  {
   "cell_type": "markdown",
   "id": "662f51a4-a37c-40b5-a402-28a364b1fcfd",
   "metadata": {},
   "source": [
    "Some of the popular libraries used in Data Science are:\n",
    "    \n",
    "1. Pandas\n",
    "2. Numpy\n",
    "3. Caret\n",
    "4. Tensorflow"
   ]
  },
  {
   "cell_type": "markdown",
   "id": "52ee67cc-7ddf-4a50-a23a-ff1a7443e9f4",
   "metadata": {},
   "source": [
    "Some Data Science tools are:\n",
    "\n",
    "| Tools | \n",
    "|--------------|\n",
    "| Jupyter notebooks  | \n",
    "| RStudio   |\n",
    "| Github   |\n"
   ]
  },
  {
   "cell_type": "markdown",
   "id": "1c717a40-6416-46f3-acea-6be613d3010c",
   "metadata": {},
   "source": [
    "### Below are a few examples of evaluating arithmethic expressions in Python"
   ]
  },
  {
   "cell_type": "code",
   "execution_count": 1,
   "id": "e43be2eb-4ecd-406f-ba36-501f9c136a36",
   "metadata": {
    "tags": []
   },
   "outputs": [
    {
     "data": {
      "text/plain": [
       "17"
      ]
     },
     "execution_count": 1,
     "metadata": {},
     "output_type": "execute_result"
    }
   ],
   "source": [
    "# This is a simple arithmetic expression to add and multiply integers\n",
    "\n",
    "(3 * 4) + 5"
   ]
  },
  {
   "cell_type": "code",
   "execution_count": 2,
   "id": "537c52db-5ba6-4838-a8af-113a4957de70",
   "metadata": {
    "tags": []
   },
   "outputs": [
    {
     "data": {
      "text/plain": [
       "3.3333333333333335"
      ]
     },
     "execution_count": 2,
     "metadata": {},
     "output_type": "execute_result"
    }
   ],
   "source": [
    "# This will convert 200 minutes to hours by dividing by 60\n",
    "\n",
    "200 / 60"
   ]
  }
 ],
 "metadata": {
  "kernelspec": {
   "display_name": "Python",
   "language": "python",
   "name": "conda-env-python-py"
  },
  "language_info": {
   "codemirror_mode": {
    "name": "ipython",
    "version": 3
   },
   "file_extension": ".py",
   "mimetype": "text/x-python",
   "name": "python",
   "nbconvert_exporter": "python",
   "pygments_lexer": "ipython3",
   "version": "3.7.12"
  }
 },
 "nbformat": 4,
 "nbformat_minor": 5
}
